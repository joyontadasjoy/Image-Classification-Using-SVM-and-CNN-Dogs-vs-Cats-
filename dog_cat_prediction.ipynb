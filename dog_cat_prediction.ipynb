{
 "cells": [
  {
   "cell_type": "markdown",
   "metadata": {},
   "source": [
    "# Importing Libraries"
   ]
  },
  {
   "cell_type": "code",
   "execution_count": 85,
   "metadata": {},
   "outputs": [],
   "source": [
    "import tensorflow as tf\n",
    "from keras.preprocessing.image import ImageDataGenerator\n",
    "from tensorflow.keras.preprocessing import image\n",
    "import numpy as np"
   ]
  },
  {
   "cell_type": "markdown",
   "metadata": {},
   "source": [
    "# Preprocessing Training Set"
   ]
  },
  {
   "cell_type": "code",
   "execution_count": 86,
   "metadata": {},
   "outputs": [
    {
     "name": "stdout",
     "output_type": "stream",
     "text": [
      "Found 8000 images belonging to 2 classes.\n"
     ]
    }
   ],
   "source": [
    "train_gen_data = ImageDataGenerator(rescale=1. / 255,\n",
    "                                    shear_range=0.2,\n",
    "                                    zoom_range=0.2,\n",
    "                                    horizontal_flip=True)\n",
    "training_set = train_gen_data.flow_from_directory(r'C:\\Users\\VivoBook\\training_set',\n",
    "                                                  target_size=(64, 64), batch_size=32, class_mode='binary')"
   ]
  },
  {
   "cell_type": "markdown",
   "metadata": {},
   "source": [
    "# Preprocessing Test Set"
   ]
  },
  {
   "cell_type": "code",
   "execution_count": 87,
   "metadata": {},
   "outputs": [
    {
     "name": "stdout",
     "output_type": "stream",
     "text": [
      "Found 2000 images belonging to 2 classes.\n"
     ]
    }
   ],
   "source": [
    "test_gen_data = ImageDataGenerator(rescale=1. / 255)\n",
    "test_set = test_gen_data.flow_from_directory(r'C:\\Users\\VivoBook\\test_set', target_size=(64, 64),\n",
    "                                             batch_size=32, class_mode='binary')"
   ]
  },
  {
   "cell_type": "markdown",
   "metadata": {},
   "source": [
    "# CNN"
   ]
  },
  {
   "cell_type": "markdown",
   "metadata": {},
   "source": [
    "### Initialising CNN"
   ]
  },
  {
   "cell_type": "code",
   "execution_count": 88,
   "metadata": {},
   "outputs": [],
   "source": [
    "cnn = tf.keras.models.Sequential()"
   ]
  },
  {
   "cell_type": "markdown",
   "metadata": {},
   "source": [
    "### Convolutional"
   ]
  },
  {
   "cell_type": "code",
   "execution_count": 89,
   "metadata": {},
   "outputs": [],
   "source": [
    "cnn.add(tf.keras.layers.Conv2D(filters=32, kernel_size=3, activation='relu', input_shape=[64, 64, 3]))"
   ]
  },
  {
   "cell_type": "markdown",
   "metadata": {},
   "source": [
    "### Pooling"
   ]
  },
  {
   "cell_type": "code",
   "execution_count": 90,
   "metadata": {},
   "outputs": [],
   "source": [
    "cnn.add(tf.keras.layers.MaxPool2D(pool_size= 2, strides= 2))"
   ]
  },
  {
   "cell_type": "markdown",
   "metadata": {},
   "source": [
    "### Second convolutional layer"
   ]
  },
  {
   "cell_type": "code",
   "execution_count": 91,
   "metadata": {},
   "outputs": [],
   "source": [
    "cnn.add(tf.keras.layers.Conv2D(filters=32, kernel_size=3, activation='relu'))\n",
    "cnn.add(tf.keras.layers.MaxPool2D(pool_size= 2, strides= 2))"
   ]
  },
  {
   "cell_type": "markdown",
   "metadata": {},
   "source": [
    "### Flattening"
   ]
  },
  {
   "cell_type": "code",
   "execution_count": 92,
   "metadata": {},
   "outputs": [],
   "source": [
    "cnn.add(tf.keras.layers.Flatten())"
   ]
  },
  {
   "cell_type": "markdown",
   "metadata": {},
   "source": [
    "### Full Connection"
   ]
  },
  {
   "cell_type": "code",
   "execution_count": 93,
   "metadata": {},
   "outputs": [],
   "source": [
    "cnn.add(tf.keras.layers.Dense(units= 128, activation= 'relu'))"
   ]
  },
  {
   "cell_type": "markdown",
   "metadata": {},
   "source": [
    "### Output Layer"
   ]
  },
  {
   "cell_type": "code",
   "execution_count": 94,
   "metadata": {},
   "outputs": [],
   "source": [
    "cnn.add(tf.keras.layers.Dense(units= 1, activation= 'sigmoid'))"
   ]
  },
  {
   "cell_type": "markdown",
   "metadata": {},
   "source": [
    "# Training CNN"
   ]
  },
  {
   "cell_type": "markdown",
   "metadata": {},
   "source": [
    "### Compiling CNN"
   ]
  },
  {
   "cell_type": "code",
   "execution_count": 95,
   "metadata": {},
   "outputs": [],
   "source": [
    "cnn.compile(optimizer = 'adam', loss = 'binary_crossentropy', metrics = ['accuracy'])"
   ]
  },
  {
   "cell_type": "markdown",
   "metadata": {},
   "source": [
    "### Traning set and Evaluting it on Test set"
   ]
  },
  {
   "cell_type": "code",
   "execution_count": 13,
   "metadata": {},
   "outputs": [
    {
     "name": "stdout",
     "output_type": "stream",
     "text": [
      "Epoch 1/25\n",
      "250/250 [==============================] - 50s 198ms/step - loss: 0.6767 - accuracy: 0.5810 - val_loss: 0.6809 - val_accuracy: 0.5905\n",
      "Epoch 2/25\n",
      "250/250 [==============================] - 46s 186ms/step - loss: 0.6134 - accuracy: 0.6639 - val_loss: 0.5767 - val_accuracy: 0.6950\n",
      "Epoch 3/25\n",
      "250/250 [==============================] - 48s 192ms/step - loss: 0.5667 - accuracy: 0.7026 - val_loss: 0.5586 - val_accuracy: 0.7080\n",
      "Epoch 4/25\n",
      "250/250 [==============================] - 42s 168ms/step - loss: 0.5336 - accuracy: 0.7341 - val_loss: 0.5297 - val_accuracy: 0.7425\n",
      "Epoch 5/25\n",
      "250/250 [==============================] - 42s 168ms/step - loss: 0.5123 - accuracy: 0.7486 - val_loss: 0.5060 - val_accuracy: 0.7500\n",
      "Epoch 6/25\n",
      "250/250 [==============================] - 42s 167ms/step - loss: 0.4966 - accuracy: 0.7552 - val_loss: 0.5407 - val_accuracy: 0.7215\n",
      "Epoch 7/25\n",
      "250/250 [==============================] - 45s 179ms/step - loss: 0.4816 - accuracy: 0.7610 - val_loss: 0.4738 - val_accuracy: 0.7875\n",
      "Epoch 8/25\n",
      "250/250 [==============================] - 40s 161ms/step - loss: 0.4644 - accuracy: 0.7788 - val_loss: 0.4901 - val_accuracy: 0.7720\n",
      "Epoch 9/25\n",
      "250/250 [==============================] - 39s 154ms/step - loss: 0.4569 - accuracy: 0.7836 - val_loss: 0.4707 - val_accuracy: 0.7880\n",
      "Epoch 10/25\n",
      "250/250 [==============================] - 37s 149ms/step - loss: 0.4334 - accuracy: 0.7969 - val_loss: 0.4455 - val_accuracy: 0.8025\n",
      "Epoch 11/25\n",
      "250/250 [==============================] - 37s 150ms/step - loss: 0.4244 - accuracy: 0.7991 - val_loss: 0.4502 - val_accuracy: 0.8035\n",
      "Epoch 12/25\n",
      "250/250 [==============================] - 40s 159ms/step - loss: 0.4129 - accuracy: 0.8049 - val_loss: 0.4510 - val_accuracy: 0.8010\n",
      "Epoch 13/25\n",
      "250/250 [==============================] - 42s 166ms/step - loss: 0.3998 - accuracy: 0.8152 - val_loss: 0.4566 - val_accuracy: 0.7945\n",
      "Epoch 14/25\n",
      "250/250 [==============================] - 43s 173ms/step - loss: 0.3978 - accuracy: 0.8236 - val_loss: 0.4487 - val_accuracy: 0.8040\n",
      "Epoch 15/25\n",
      "250/250 [==============================] - 44s 174ms/step - loss: 0.3876 - accuracy: 0.8224 - val_loss: 0.4454 - val_accuracy: 0.7940\n",
      "Epoch 16/25\n",
      "250/250 [==============================] - 45s 180ms/step - loss: 0.3758 - accuracy: 0.8305 - val_loss: 0.4631 - val_accuracy: 0.7880\n",
      "Epoch 17/25\n",
      "250/250 [==============================] - 41s 164ms/step - loss: 0.3697 - accuracy: 0.8307 - val_loss: 0.5024 - val_accuracy: 0.7800\n",
      "Epoch 18/25\n",
      "250/250 [==============================] - 41s 165ms/step - loss: 0.3552 - accuracy: 0.8384 - val_loss: 0.4841 - val_accuracy: 0.7855\n",
      "Epoch 19/25\n",
      "250/250 [==============================] - 42s 167ms/step - loss: 0.3531 - accuracy: 0.8438 - val_loss: 0.4658 - val_accuracy: 0.7960\n",
      "Epoch 20/25\n",
      "250/250 [==============================] - 40s 162ms/step - loss: 0.3493 - accuracy: 0.8428 - val_loss: 0.4931 - val_accuracy: 0.7970\n",
      "Epoch 21/25\n",
      "250/250 [==============================] - 44s 177ms/step - loss: 0.3292 - accuracy: 0.8534 - val_loss: 0.4756 - val_accuracy: 0.7990\n",
      "Epoch 22/25\n",
      "250/250 [==============================] - 47s 187ms/step - loss: 0.3166 - accuracy: 0.8664 - val_loss: 0.5006 - val_accuracy: 0.7990\n",
      "Epoch 23/25\n",
      "250/250 [==============================] - 42s 169ms/step - loss: 0.3093 - accuracy: 0.8649 - val_loss: 0.4489 - val_accuracy: 0.8115\n",
      "Epoch 24/25\n",
      "250/250 [==============================] - 42s 167ms/step - loss: 0.3007 - accuracy: 0.8701 - val_loss: 0.5970 - val_accuracy: 0.7705\n",
      "Epoch 25/25\n",
      "250/250 [==============================] - 42s 167ms/step - loss: 0.2915 - accuracy: 0.8739 - val_loss: 0.4937 - val_accuracy: 0.7950\n"
     ]
    },
    {
     "data": {
      "text/plain": [
       "<keras.callbacks.History at 0x25cadf3a970>"
      ]
     },
     "execution_count": 13,
     "metadata": {},
     "output_type": "execute_result"
    }
   ],
   "source": [
    "cnn.fit(x = training_set, validation_data = test_set, epochs = 25)"
   ]
  },
  {
   "cell_type": "markdown",
   "metadata": {},
   "source": [
    "# Making Prediction"
   ]
  },
  {
   "cell_type": "code",
   "execution_count": 96,
   "metadata": {},
   "outputs": [
    {
     "name": "stdout",
     "output_type": "stream",
     "text": [
      "WARNING:tensorflow:6 out of the last 19 calls to <function Model.make_predict_function.<locals>.predict_function at 0x000001E6B16BF670> triggered tf.function retracing. Tracing is expensive and the excessive number of tracings could be due to (1) creating @tf.function repeatedly in a loop, (2) passing tensors with different shapes, (3) passing Python objects instead of tensors. For (1), please define your @tf.function outside of the loop. For (2), @tf.function has reduce_retracing=True option that can avoid unnecessary retracing. For (3), please refer to https://www.tensorflow.org/guide/function#controlling_retracing and https://www.tensorflow.org/api_docs/python/tf/function for  more details.\n",
      "1/1 [==============================] - 0s 105ms/step\n"
     ]
    },
    {
     "data": {
      "image/png": "[encoded data removed]",
      "text/plain": [
       "<Figure size 432x288 with 1 Axes>"
      ]
     },
     "metadata": {
      "needs_background": "light"
     },
     "output_type": "display_data"
    }
   ],
   "source": [
    "import matplotlib.pyplot as plt\n",
    "\n",
    "# Load and preprocess the test image\n",
    "test_image = image.load_img(r\"C:\\Users\\VivoBook\\single_prediction\\lol.jpeg\", target_size=(64, 64))\n",
    "test_image = image.img_to_array(test_image)\n",
    "test_image = np.expand_dims(test_image, axis=0)\n",
    "\n",
    "# Make prediction using the trained CNN model\n",
    "result = cnn.predict(test_image)\n",
    "\n",
    "# Get the predicted class label\n",
    "if result[0][0] == 1:\n",
    "    prediction = 'dog'\n",
    "else:\n",
    "    prediction = 'cat'\n",
    "\n",
    "# Show the test image with predicted label\n",
    "plt.imshow(test_image[0]/255.)\n",
    "plt.title(prediction)\n",
    "plt.show()\n",
    "\n",
    "        "
   ]
  },
  {
   "cell_type": "code",
   "execution_count": 97,
   "metadata": {},
   "outputs": [
    {
     "data": {
      "text/plain": [
       "'dog'"
      ]
     },
     "execution_count": 97,
     "metadata": {},
     "output_type": "execute_result"
    }
   ],
   "source": [
    "prediction\n"
   ]
  },
  {
   "cell_type": "code",
   "execution_count": null,
   "metadata": {},
   "outputs": [],
   "source": []
  },
  {
   "cell_type": "code",
   "execution_count": null,
   "metadata": {},
   "outputs": [],
   "source": []
  },
  {
   "cell_type": "code",
   "execution_count": null,
   "metadata": {},
   "outputs": [],
   "source": []
  }
 ],
 "metadata": {
  "kernelspec": {
   "display_name": "Python 3",
   "language": "python",
   "name": "python3"
  },
  "language_info": {
   "codemirror_mode": {
    "name": "ipython",
    "version": 3
   },
   "file_extension": ".py",
   "mimetype": "text/x-python",
   "name": "python",
   "nbconvert_exporter": "python",
   "pygments_lexer": "ipython3",
   "version": "3.8.3"
  }
 },
 "nbformat": 4,
 "nbformat_minor": 5
}
